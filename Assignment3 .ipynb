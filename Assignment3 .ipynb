{
 "cells": [
  {
   "cell_type": "code",
   "execution_count": 4,
   "metadata": {},
   "outputs": [
    {
     "name": "stdout",
     "output_type": "stream",
     "text": [
      "Enter Dividen :200\n",
      "Enter Divisor0\n",
      "Do  not enter zero as divisor\n"
     ]
    }
   ],
   "source": [
    "import numpy as np\n",
    "\n",
    "#Write a function to compute 5/0 and use try/except to catch the exceptions.\n",
    "def div_excep():\n",
    "    try:\n",
    "        a = int(input('Enter Dividen :'))\n",
    "        b = int(input('Enter Divisor'))\n",
    "        print(a/b)\n",
    "    except ZeroDivisionError:\n",
    "        print('Do  not enter zero as divisor')\n",
    "    \n",
    "div_excep()        \n",
    "    "
   ]
  },
  {
   "cell_type": "code",
   "execution_count": null,
   "metadata": {},
   "outputs": [],
   "source": []
  },
  {
   "cell_type": "code",
   "execution_count": 2,
   "metadata": {},
   "outputs": [
    {
     "name": "stdout",
     "output_type": "stream",
     "text": [
      "Americans Play Basketball\n",
      "Americans Play Cricket\n",
      "Americans Watch Basketball\n",
      "Americans Watch Cricket\n",
      "Indians Play Basketball\n",
      "Indians Play Cricket\n",
      "Indians Watch Basketball\n",
      "Indians Watch Cricket\n"
     ]
    }
   ],
   "source": [
    "#Implement a Python program to generate all sentences where subject is in [\"Americans\",\n",
    "#\"Indians\"] and verb is in [\"Play\", \"watch\"] and the object is in [\"Baseball\",\"cricket\"].\n",
    "\n",
    "\n",
    "Subjects = ['Americans','Indians']\n",
    "Verbs    = ['Play', 'Watch']\n",
    "Objects  = ['Basketball','Cricket']\n",
    "\n",
    "for s in Subjects:\n",
    "    for v in Verbs:\n",
    "        for o in Objects:\n",
    "            print(s+' '+v+' '+o)"
   ]
  },
  {
   "cell_type": "code",
   "execution_count": 6,
   "metadata": {},
   "outputs": [
    {
     "data": {
      "text/plain": [
       "array([[ 1,  1,  1],\n",
       "       [ 4,  2,  1],\n",
       "       [ 9,  3,  1],\n",
       "       [25,  5,  1]], dtype=int32)"
      ]
     },
     "execution_count": 6,
     "metadata": {},
     "output_type": "execute_result"
    }
   ],
   "source": [
    "#Write a function so that the columns of the output matrix are powers of the input vector.\n",
    "\n",
    "\n",
    "x = np.array([1, 2, 3, 5])\n",
    "N = 3\n",
    "np.column_stack([x**(N-1-i) for i in range(N)])\n"
   ]
  }
 ],
 "metadata": {
  "kernelspec": {
   "display_name": "Python 3",
   "language": "python",
   "name": "python3"
  },
  "language_info": {
   "codemirror_mode": {
    "name": "ipython",
    "version": 3
   },
   "file_extension": ".py",
   "mimetype": "text/x-python",
   "name": "python",
   "nbconvert_exporter": "python",
   "pygments_lexer": "ipython3",
   "version": "3.7.0"
  }
 },
 "nbformat": 4,
 "nbformat_minor": 2
}
